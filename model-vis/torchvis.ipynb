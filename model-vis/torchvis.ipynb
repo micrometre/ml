{
 "cells": [
  {
   "cell_type": "code",
   "execution_count": 2,
   "metadata": {},
   "outputs": [
    {
     "data": {
      "text/plain": [
       "'model_visualization.pdf'"
      ]
     },
     "execution_count": 2,
     "metadata": {},
     "output_type": "execute_result"
    }
   ],
   "source": [
    "import torch\n",
    "\n",
    "from torchviz import make_dot\n",
    "\n",
    "\n",
    "\n",
    "# Define a simple model\n",
    "\n",
    "model = torch.nn.Sequential(\n",
    "\n",
    "    torch.nn.Linear(10, 5),\n",
    "\n",
    "    torch.nn.ReLU(),\n",
    "\n",
    "    torch.nn.Linear(5, 1)\n",
    "\n",
    ")\n",
    "\n",
    "\n",
    "\n",
    "# Create a dummy input\n",
    "\n",
    "x = torch.randn(1, 10) \n",
    "\n",
    "\n",
    "\n",
    "# Generate visualization\n",
    "\n",
    "dot = make_dot(model(x), params=dict(model.named_parameters()))\n",
    "\n",
    "dot.render(\"model_visualization\", format=\"pdf\") \n"
   ]
  }
 ],
 "metadata": {
  "kernelspec": {
   "display_name": ".venv",
   "language": "python",
   "name": "python3"
  },
  "language_info": {
   "codemirror_mode": {
    "name": "ipython",
    "version": 3
   },
   "file_extension": ".py",
   "mimetype": "text/x-python",
   "name": "python",
   "nbconvert_exporter": "python",
   "pygments_lexer": "ipython3",
   "version": "3.10.12"
  }
 },
 "nbformat": 4,
 "nbformat_minor": 2
}
