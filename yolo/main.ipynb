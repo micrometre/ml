{
  "cells": [
    {
      "cell_type": "code",
      "execution_count": null,
      "metadata": {
        "id": "JEU5w0WEdSJ2"
      },
      "outputs": [],
      "source": [
        "from ultralytics import YOLO\n",
        "from IPython.display import Image\n",
        "\n",
        "# unzip downloaded dataset to `./datasets`\n",
        "dataset = 'datasets/data.yaml'\n",
        "\n",
        "# load a model\n",
        "# backbone = YOLO(\"yolov8n.yaml\")  # build a new model from scratch\n",
        "backbone = YOLO(\"yolov8n.pt\")  # load a pre-trained model (recommended for training)\n",
        "\n",
        "\n",
        "\n",
        "results = backbone.train(data=dataset, epochs=1)  # train the model"
      ]
    }
  ],
  "metadata": {
    "kernelspec": {
      "display_name": ".venv",
      "language": "python",
      "name": "python3"
    },
    "language_info": {
      "codemirror_mode": {
        "name": "ipython",
        "version": 3
      },
      "file_extension": ".py",
      "mimetype": "text/x-python",
      "name": "python",
      "nbconvert_exporter": "python",
      "pygments_lexer": "ipython3",
      "version": "3.10.12"
    },
    "colab": {
      "provenance": []
    }
  },
  "nbformat": 4,
  "nbformat_minor": 0
}