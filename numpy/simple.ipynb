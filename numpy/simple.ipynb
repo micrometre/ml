{
 "cells": [
  {
   "cell_type": "code",
   "execution_count": 2,
   "metadata": {},
   "outputs": [],
   "source": [
    "import numpy as np\n",
    "# Input data\n",
    "X = np.array([[0], [1], [2], [3], [4]])\n",
    "\n",
    "# Output data\n",
    "y = np.array([[0], [2], [4], [6], [8]])\n"
   ]
  },
  {
   "cell_type": "code",
   "execution_count": 3,
   "metadata": {},
   "outputs": [],
   "source": [
    "class SimpleNeuralNetwork:\n",
    "    def __init__(self):\n",
    "        np.random.seed(1)\n",
    "        self.weight = np.random.rand(1, 1)\n",
    "        self.bias = np.random.rand(1)\n",
    "\n",
    "    def sigmoid(self, x):\n",
    "        return 1 / (1 + np.exp(-x))\n",
    "\n",
    "    def sigmoid_derivative(self, x):\n",
    "        return x * (1 - x)\n",
    "\n",
    "    def train(self, X, y, epochs=10000, learning_rate=0.1):\n",
    "        for _ in range(epochs):\n",
    "            # Forward propagation\n",
    "            output = self.sigmoid(np.dot(X, self.weight) + self.bias)\n",
    "\n",
    "            # Backpropagation\n",
    "            error = y - output\n",
    "            adjustments = error * self.sigmoid_derivative(output)\n",
    "            self.weight += learning_rate * np.dot(X.T, adjustments)\n",
    "            self.bias += learning_rate * np.sum(adjustments)\n",
    "\n",
    "    def predict(self, X):\n",
    "        return self.sigmoid(np.dot(X, self.weight) + self.bias)\n"
   ]
  },
  {
   "cell_type": "code",
   "execution_count": 4,
   "metadata": {},
   "outputs": [
    {
     "name": "stdout",
     "output_type": "stream",
     "text": [
      "Prediction for input 5: 1.0\n"
     ]
    }
   ],
   "source": [
    "# Create a neural network instance\n",
    "nn = SimpleNeuralNetwork()\n",
    "\n",
    "# Train the neural network\n",
    "nn.train(X, y)\n",
    "\n",
    "# Test the neural network\n",
    "test_input = np.array([[5]])\n",
    "prediction = nn.predict(test_input)\n",
    "\n",
    "print(f\"Prediction for input {test_input[0][0]}: {prediction[0][0]}\")\n"
   ]
  }
 ],
 "metadata": {
  "kernelspec": {
   "display_name": ".venv",
   "language": "python",
   "name": "python3"
  },
  "language_info": {
   "codemirror_mode": {
    "name": "ipython",
    "version": 3
   },
   "file_extension": ".py",
   "mimetype": "text/x-python",
   "name": "python",
   "nbconvert_exporter": "python",
   "pygments_lexer": "ipython3",
   "version": "3.10.12"
  }
 },
 "nbformat": 4,
 "nbformat_minor": 2
}
